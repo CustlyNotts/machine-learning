{
 "cells": [
  {
   "cell_type": "code",
   "execution_count": 3,
   "id": "3889cf07-9a75-44a4-a19c-f7f70b423304",
   "metadata": {},
   "outputs": [],
   "source": [
    "import pandas as pd\n",
    "import numpy as np\n",
    "import seaborn as sns"
   ]
  },
  {
   "cell_type": "code",
   "execution_count": 4,
   "id": "2355024b-fba0-4276-8c4d-78fb3ac9c6d1",
   "metadata": {},
   "outputs": [],
   "source": [
    "df = pd.read_csv('https://raw.githubusercontent.com/alexeygrigorev/datasets/master/car_fuel_efficiency.csv')"
   ]
  },
  {
   "cell_type": "code",
   "execution_count": 5,
   "id": "79c38f77-8492-43df-a4de-cde9ae195500",
   "metadata": {},
   "outputs": [],
   "source": [
    "df1 = pd.read_csv('https://raw.githubusercontent.com/alexeygrigorev/datasets/master/car_fuel_efficiency.csv')"
   ]
  },
  {
   "cell_type": "code",
   "execution_count": 6,
   "id": "23fd5694-d729-4c07-9955-2befced77141",
   "metadata": {},
   "outputs": [
    {
     "data": {
      "text/html": [
       "<div>\n",
       "<style scoped>\n",
       "    .dataframe tbody tr th:only-of-type {\n",
       "        vertical-align: middle;\n",
       "    }\n",
       "\n",
       "    .dataframe tbody tr th {\n",
       "        vertical-align: top;\n",
       "    }\n",
       "\n",
       "    .dataframe thead th {\n",
       "        text-align: right;\n",
       "    }\n",
       "</style>\n",
       "<table border=\"1\" class=\"dataframe\">\n",
       "  <thead>\n",
       "    <tr style=\"text-align: right;\">\n",
       "      <th></th>\n",
       "      <th>engine_displacement</th>\n",
       "      <th>num_cylinders</th>\n",
       "      <th>horsepower</th>\n",
       "      <th>vehicle_weight</th>\n",
       "      <th>acceleration</th>\n",
       "      <th>model_year</th>\n",
       "      <th>origin</th>\n",
       "      <th>fuel_type</th>\n",
       "      <th>drivetrain</th>\n",
       "      <th>num_doors</th>\n",
       "      <th>fuel_efficiency_mpg</th>\n",
       "    </tr>\n",
       "  </thead>\n",
       "  <tbody>\n",
       "    <tr>\n",
       "      <th>0</th>\n",
       "      <td>170</td>\n",
       "      <td>3.0</td>\n",
       "      <td>159.0</td>\n",
       "      <td>3413.433759</td>\n",
       "      <td>17.7</td>\n",
       "      <td>2003</td>\n",
       "      <td>Europe</td>\n",
       "      <td>Gasoline</td>\n",
       "      <td>All-wheel drive</td>\n",
       "      <td>0.0</td>\n",
       "      <td>13.231729</td>\n",
       "    </tr>\n",
       "    <tr>\n",
       "      <th>1</th>\n",
       "      <td>130</td>\n",
       "      <td>5.0</td>\n",
       "      <td>97.0</td>\n",
       "      <td>3149.664934</td>\n",
       "      <td>17.8</td>\n",
       "      <td>2007</td>\n",
       "      <td>USA</td>\n",
       "      <td>Gasoline</td>\n",
       "      <td>Front-wheel drive</td>\n",
       "      <td>0.0</td>\n",
       "      <td>13.688217</td>\n",
       "    </tr>\n",
       "    <tr>\n",
       "      <th>2</th>\n",
       "      <td>170</td>\n",
       "      <td>NaN</td>\n",
       "      <td>78.0</td>\n",
       "      <td>3079.038997</td>\n",
       "      <td>15.1</td>\n",
       "      <td>2018</td>\n",
       "      <td>Europe</td>\n",
       "      <td>Gasoline</td>\n",
       "      <td>Front-wheel drive</td>\n",
       "      <td>0.0</td>\n",
       "      <td>14.246341</td>\n",
       "    </tr>\n",
       "    <tr>\n",
       "      <th>3</th>\n",
       "      <td>220</td>\n",
       "      <td>4.0</td>\n",
       "      <td>NaN</td>\n",
       "      <td>2542.392402</td>\n",
       "      <td>20.2</td>\n",
       "      <td>2009</td>\n",
       "      <td>USA</td>\n",
       "      <td>Diesel</td>\n",
       "      <td>All-wheel drive</td>\n",
       "      <td>2.0</td>\n",
       "      <td>16.912736</td>\n",
       "    </tr>\n",
       "    <tr>\n",
       "      <th>4</th>\n",
       "      <td>210</td>\n",
       "      <td>1.0</td>\n",
       "      <td>140.0</td>\n",
       "      <td>3460.870990</td>\n",
       "      <td>14.4</td>\n",
       "      <td>2009</td>\n",
       "      <td>Europe</td>\n",
       "      <td>Gasoline</td>\n",
       "      <td>All-wheel drive</td>\n",
       "      <td>2.0</td>\n",
       "      <td>12.488369</td>\n",
       "    </tr>\n",
       "  </tbody>\n",
       "</table>\n",
       "</div>"
      ],
      "text/plain": [
       "   engine_displacement  num_cylinders  horsepower  vehicle_weight  \\\n",
       "0                  170            3.0       159.0     3413.433759   \n",
       "1                  130            5.0        97.0     3149.664934   \n",
       "2                  170            NaN        78.0     3079.038997   \n",
       "3                  220            4.0         NaN     2542.392402   \n",
       "4                  210            1.0       140.0     3460.870990   \n",
       "\n",
       "   acceleration  model_year  origin fuel_type         drivetrain  num_doors  \\\n",
       "0          17.7        2003  Europe  Gasoline    All-wheel drive        0.0   \n",
       "1          17.8        2007     USA  Gasoline  Front-wheel drive        0.0   \n",
       "2          15.1        2018  Europe  Gasoline  Front-wheel drive        0.0   \n",
       "3          20.2        2009     USA    Diesel    All-wheel drive        2.0   \n",
       "4          14.4        2009  Europe  Gasoline    All-wheel drive        2.0   \n",
       "\n",
       "   fuel_efficiency_mpg  \n",
       "0            13.231729  \n",
       "1            13.688217  \n",
       "2            14.246341  \n",
       "3            16.912736  \n",
       "4            12.488369  "
      ]
     },
     "execution_count": 6,
     "metadata": {},
     "output_type": "execute_result"
    }
   ],
   "source": [
    "df.head()"
   ]
  },
  {
   "cell_type": "code",
   "execution_count": 7,
   "id": "355b0e67-099f-4125-933d-68f8e3281f52",
   "metadata": {},
   "outputs": [
    {
     "data": {
      "text/plain": [
       "0       13.231729\n",
       "1       13.688217\n",
       "2       14.246341\n",
       "3       16.912736\n",
       "4       12.488369\n",
       "          ...    \n",
       "9699    15.101802\n",
       "9700    17.962326\n",
       "9701    17.186587\n",
       "9702    15.331551\n",
       "9703    14.884467\n",
       "Name: fuel_efficiency_mpg, Length: 9704, dtype: float64"
      ]
     },
     "execution_count": 7,
     "metadata": {},
     "output_type": "execute_result"
    }
   ],
   "source": [
    "df['fuel_efficiency_mpg']"
   ]
  },
  {
   "cell_type": "code",
   "execution_count": 8,
   "id": "ee1b987c-afc4-4e26-893b-d2f32744da42",
   "metadata": {},
   "outputs": [
    {
     "data": {
      "text/plain": [
       "<Axes: xlabel='fuel_efficiency_mpg', ylabel='Count'>"
      ]
     },
     "execution_count": 8,
     "metadata": {},
     "output_type": "execute_result"
    },
    {
     "data": {
      "image/png": "[encoded data removed]",
      "text/plain": [
       "<Figure size 640x480 with 1 Axes>"
      ]
     },
     "metadata": {},
     "output_type": "display_data"
    }
   ],
   "source": [
    "sns.histplot(df['fuel_efficiency_mpg'])"
   ]
  },
  {
   "cell_type": "code",
   "execution_count": 9,
   "id": "607d21d4-0922-46d8-b696-9d3e737b05c4",
   "metadata": {},
   "outputs": [
    {
     "data": {
      "text/plain": [
       "engine_displacement      0\n",
       "num_cylinders          482\n",
       "horsepower             708\n",
       "vehicle_weight           0\n",
       "acceleration           930\n",
       "model_year               0\n",
       "origin                   0\n",
       "fuel_type                0\n",
       "drivetrain               0\n",
       "num_doors              502\n",
       "fuel_efficiency_mpg      0\n",
       "dtype: int64"
      ]
     },
     "execution_count": 9,
     "metadata": {},
     "output_type": "execute_result"
    }
   ],
   "source": [
    "df.isnull().sum()"
   ]
  },
  {
   "cell_type": "code",
   "execution_count": 10,
   "id": "c7f27d9f-8600-44bc-b413-2ebc2d588242",
   "metadata": {},
   "outputs": [
    {
     "data": {
      "text/plain": [
       "np.float64(149.0)"
      ]
     },
     "execution_count": 10,
     "metadata": {},
     "output_type": "execute_result"
    }
   ],
   "source": [
    "df['horsepower'].median()"
   ]
  },
  {
   "cell_type": "code",
   "execution_count": 11,
   "id": "3fa6f390-7949-4893-ad56-112ceb73f0d1",
   "metadata": {},
   "outputs": [
    {
     "data": {
      "text/plain": [
       "Index(['engine_displacement', 'num_cylinders', 'horsepower', 'vehicle_weight',\n",
       "       'acceleration', 'model_year', 'origin', 'fuel_type', 'drivetrain',\n",
       "       'num_doors', 'fuel_efficiency_mpg'],\n",
       "      dtype='object')"
      ]
     },
     "execution_count": 11,
     "metadata": {},
     "output_type": "execute_result"
    }
   ],
   "source": [
    "df.columns"
   ]
  },
  {
   "cell_type": "code",
   "execution_count": 12,
   "id": "361b5d5c-7eb1-4353-b20c-1fcc71df32c5",
   "metadata": {},
   "outputs": [
    {
     "data": {
      "text/plain": [
       "9704"
      ]
     },
     "execution_count": 12,
     "metadata": {},
     "output_type": "execute_result"
    }
   ],
   "source": [
    "n = len(df)\n",
    "\n",
    "n_val = int(n * 0.2)\n",
    "n_test = int(n * 0.2)\n",
    "n_train = n - (n_val + n_test)\n",
    "n"
   ]
  },
  {
   "cell_type": "code",
   "execution_count": 13,
   "id": "4f4c23b2-908f-41d1-911d-37d5132bbaac",
   "metadata": {},
   "outputs": [
    {
     "data": {
      "text/plain": [
       "(1940, 1940, 5824)"
      ]
     },
     "execution_count": 13,
     "metadata": {},
     "output_type": "execute_result"
    }
   ],
   "source": [
    "n_val, n_test, n_train"
   ]
  },
  {
   "cell_type": "code",
   "execution_count": 14,
   "id": "bfdab496-b38f-4663-a561-1b55625d9ffe",
   "metadata": {},
   "outputs": [],
   "source": [
    "idx = np.arange(n)"
   ]
  },
  {
   "cell_type": "code",
   "execution_count": 15,
   "id": "a9274d58-0b98-48c8-b752-11f303996738",
   "metadata": {},
   "outputs": [],
   "source": [
    "np.random.seed(42)\n",
    "np.random.shuffle(idx)"
   ]
  },
  {
   "cell_type": "code",
   "execution_count": 16,
   "id": "e05e89b4-534b-4c29-854c-05d4134ac4f1",
   "metadata": {},
   "outputs": [
    {
     "data": {
      "text/html": [
       "<div>\n",
       "<style scoped>\n",
       "    .dataframe tbody tr th:only-of-type {\n",
       "        vertical-align: middle;\n",
       "    }\n",
       "\n",
       "    .dataframe tbody tr th {\n",
       "        vertical-align: top;\n",
       "    }\n",
       "\n",
       "    .dataframe thead th {\n",
       "        text-align: right;\n",
       "    }\n",
       "</style>\n",
       "<table border=\"1\" class=\"dataframe\">\n",
       "  <thead>\n",
       "    <tr style=\"text-align: right;\">\n",
       "      <th></th>\n",
       "      <th>engine_displacement</th>\n",
       "      <th>num_cylinders</th>\n",
       "      <th>horsepower</th>\n",
       "      <th>vehicle_weight</th>\n",
       "      <th>acceleration</th>\n",
       "      <th>model_year</th>\n",
       "      <th>origin</th>\n",
       "      <th>fuel_type</th>\n",
       "      <th>drivetrain</th>\n",
       "      <th>num_doors</th>\n",
       "      <th>fuel_efficiency_mpg</th>\n",
       "    </tr>\n",
       "  </thead>\n",
       "  <tbody>\n",
       "    <tr>\n",
       "      <th>483</th>\n",
       "      <td>220</td>\n",
       "      <td>3.0</td>\n",
       "      <td>144.0</td>\n",
       "      <td>2535.887591</td>\n",
       "      <td>18.7</td>\n",
       "      <td>2009</td>\n",
       "      <td>USA</td>\n",
       "      <td>Gasoline</td>\n",
       "      <td>All-wheel drive</td>\n",
       "      <td>2.0</td>\n",
       "      <td>16.642943</td>\n",
       "    </tr>\n",
       "    <tr>\n",
       "      <th>7506</th>\n",
       "      <td>160</td>\n",
       "      <td>2.0</td>\n",
       "      <td>141.0</td>\n",
       "      <td>2741.170484</td>\n",
       "      <td>14.3</td>\n",
       "      <td>2019</td>\n",
       "      <td>Asia</td>\n",
       "      <td>Diesel</td>\n",
       "      <td>Front-wheel drive</td>\n",
       "      <td>2.0</td>\n",
       "      <td>16.298377</td>\n",
       "    </tr>\n",
       "    <tr>\n",
       "      <th>8795</th>\n",
       "      <td>230</td>\n",
       "      <td>3.0</td>\n",
       "      <td>155.0</td>\n",
       "      <td>2471.880237</td>\n",
       "      <td>NaN</td>\n",
       "      <td>2017</td>\n",
       "      <td>Asia</td>\n",
       "      <td>Diesel</td>\n",
       "      <td>Front-wheel drive</td>\n",
       "      <td>2.0</td>\n",
       "      <td>18.591822</td>\n",
       "    </tr>\n",
       "    <tr>\n",
       "      <th>1688</th>\n",
       "      <td>150</td>\n",
       "      <td>3.0</td>\n",
       "      <td>206.0</td>\n",
       "      <td>3748.164469</td>\n",
       "      <td>15.5</td>\n",
       "      <td>2015</td>\n",
       "      <td>USA</td>\n",
       "      <td>Gasoline</td>\n",
       "      <td>All-wheel drive</td>\n",
       "      <td>1.0</td>\n",
       "      <td>11.818843</td>\n",
       "    </tr>\n",
       "    <tr>\n",
       "      <th>6217</th>\n",
       "      <td>300</td>\n",
       "      <td>4.0</td>\n",
       "      <td>111.0</td>\n",
       "      <td>2135.716359</td>\n",
       "      <td>16.9</td>\n",
       "      <td>2006</td>\n",
       "      <td>USA</td>\n",
       "      <td>Gasoline</td>\n",
       "      <td>All-wheel drive</td>\n",
       "      <td>NaN</td>\n",
       "      <td>19.402209</td>\n",
       "    </tr>\n",
       "  </tbody>\n",
       "</table>\n",
       "</div>"
      ],
      "text/plain": [
       "      engine_displacement  num_cylinders  horsepower  vehicle_weight  \\\n",
       "483                   220            3.0       144.0     2535.887591   \n",
       "7506                  160            2.0       141.0     2741.170484   \n",
       "8795                  230            3.0       155.0     2471.880237   \n",
       "1688                  150            3.0       206.0     3748.164469   \n",
       "6217                  300            4.0       111.0     2135.716359   \n",
       "\n",
       "      acceleration  model_year origin fuel_type         drivetrain  num_doors  \\\n",
       "483           18.7        2009    USA  Gasoline    All-wheel drive        2.0   \n",
       "7506          14.3        2019   Asia    Diesel  Front-wheel drive        2.0   \n",
       "8795           NaN        2017   Asia    Diesel  Front-wheel drive        2.0   \n",
       "1688          15.5        2015    USA  Gasoline    All-wheel drive        1.0   \n",
       "6217          16.9        2006    USA  Gasoline    All-wheel drive        NaN   \n",
       "\n",
       "      fuel_efficiency_mpg  \n",
       "483             16.642943  \n",
       "7506            16.298377  \n",
       "8795            18.591822  \n",
       "1688            11.818843  \n",
       "6217            19.402209  "
      ]
     },
     "execution_count": 16,
     "metadata": {},
     "output_type": "execute_result"
    }
   ],
   "source": [
    "df_train = df.iloc[idx[: n_train]]\n",
    "df_val = df.iloc[idx[n_train : n_train + n_val]]\n",
    "df_test = df.iloc[idx[n_train + n_val :]]\n",
    "df_train.head()"
   ]
  },
  {
   "cell_type": "code",
   "execution_count": 17,
   "id": "1fc7686d-28e7-4968-b324-98c3ee72c5f3",
   "metadata": {},
   "outputs": [
    {
     "data": {
      "text/plain": [
       "(5824, 1940, 1940)"
      ]
     },
     "execution_count": 17,
     "metadata": {},
     "output_type": "execute_result"
    }
   ],
   "source": [
    "len(df_train), len(df_val), len(df_test)"
   ]
  },
  {
   "cell_type": "code",
   "execution_count": 18,
   "id": "1223eeb5-0a45-4cd6-8074-38643fb91f5e",
   "metadata": {},
   "outputs": [],
   "source": [
    "df_train = df_train.reset_index(drop=True)\n",
    "df_val = df_val.reset_index(drop=True)\n",
    "df_test = df_test.reset_index(drop=True)"
   ]
  },
  {
   "cell_type": "code",
   "execution_count": 19,
   "id": "7b1eef5d-caac-4c77-b30c-6355cefc5b8e",
   "metadata": {},
   "outputs": [
    {
     "data": {
      "text/plain": [
       "1940"
      ]
     },
     "execution_count": 19,
     "metadata": {},
     "output_type": "execute_result"
    }
   ],
   "source": [
    "y_train = df_train.fuel_efficiency_mpg.values\n",
    "y_test = df_test.fuel_efficiency_mpg.values\n",
    "y_val = df_val.fuel_efficiency_mpg.values\n",
    "len(y_val)"
   ]
  },
  {
   "cell_type": "code",
   "execution_count": 20,
   "id": "844df63a-e7c9-4e23-8e62-e52d1e5c1f9e",
   "metadata": {},
   "outputs": [],
   "source": [
    "del df_train['fuel_efficiency_mpg']\n",
    "del df_val['fuel_efficiency_mpg']\n",
    "del df_test['fuel_efficiency_mpg']"
   ]
  },
  {
   "cell_type": "code",
   "execution_count": 21,
   "id": "734e8a71-d958-4bf3-800d-082e999e85f7",
   "metadata": {},
   "outputs": [
    {
     "data": {
      "text/plain": [
       "['engine_displacement', 'horsepower', 'vehicle_weight', 'model_year']"
      ]
     },
     "execution_count": 21,
     "metadata": {},
     "output_type": "execute_result"
    }
   ],
   "source": [
    "base = ['engine_displacement',\n",
    "'horsepower',\n",
    "'vehicle_weight',\n",
    "'model_year']\n",
    "base"
   ]
  },
  {
   "cell_type": "code",
   "execution_count": 22,
   "id": "3bec831a-f4d2-4665-ace1-9dde4f452bdd",
   "metadata": {},
   "outputs": [],
   "source": [
    "def train_linear_regression(X, y):\n",
    "    ones = np.ones(X.shape[0])\n",
    "    X = np.column_stack([ones, X])\n",
    "\n",
    "    XTX = X.T.dot(X)\n",
    "    XTX_inv = np.linalg.inv(XTX)\n",
    "    w_full = XTX_inv.dot(X.T).dot(y)\n",
    "    \n",
    "    return w_full[0], w_full[1:]"
   ]
  },
  {
   "cell_type": "code",
   "execution_count": 23,
   "id": "98643919-c044-4a37-aa26-fddb99e6bb68",
   "metadata": {},
   "outputs": [
    {
     "data": {
      "text/plain": [
       "array([[ 220.        ,  144.        , 2535.88759124, 2009.        ],\n",
       "       [ 160.        ,  141.        , 2741.17048439, 2019.        ],\n",
       "       [ 230.        ,  155.        , 2471.88023726, 2017.        ],\n",
       "       ...,\n",
       "       [ 210.        ,  152.        , 2500.17568746, 2020.        ],\n",
       "       [ 250.        ,  154.        , 2254.31324473, 2002.        ],\n",
       "       [ 210.        ,  152.        , 2435.20360628, 2004.        ]],\n",
       "      shape=(5824, 4))"
      ]
     },
     "execution_count": 23,
     "metadata": {},
     "output_type": "execute_result"
    }
   ],
   "source": [
    "X_train = df_train[base].values\n",
    "df_train_0 = df_train[base]\n",
    "X_train_0 = df_train_0.fillna(0).values\n",
    "X_train_mean = df_train_0.fillna(df_train_0['horsepower'].mean()).values\n",
    "\n",
    "\n",
    "\n",
    "X_train_mean"
   ]
  },
  {
   "cell_type": "code",
   "execution_count": 24,
   "id": "ef19d59e-3633-443a-acdd-4ff2e967875d",
   "metadata": {},
   "outputs": [],
   "source": [
    "w0_0, w_0 = train_linear_regression(X_train_0, y_train)\n",
    "y_pred_0 = w0_0 + X_train_0.dot(w_0)\n",
    "\n",
    "w0_mean, w_mean = train_linear_regression(X_train_mean, y_train)\n",
    "y_pred_mean = w0_mean + X_train_mean.dot(w_mean)"
   ]
  },
  {
   "cell_type": "code",
   "execution_count": 25,
   "id": "1a55fe5a-6ff0-4c0d-8a92-be89e28b21b1",
   "metadata": {},
   "outputs": [
    {
     "data": {
      "text/plain": [
       "(np.float64(28.827365475106156), np.float64(28.925259952113596))"
      ]
     },
     "execution_count": 25,
     "metadata": {},
     "output_type": "execute_result"
    }
   ],
   "source": [
    "w0_0, w0_mean"
   ]
  },
  {
   "cell_type": "code",
   "execution_count": 26,
   "id": "2c677fda-165f-4c8a-89df-2995e080288e",
   "metadata": {},
   "outputs": [
    {
     "data": {
      "text/plain": [
       "(array([ 9.93613218e-05,  3.54221891e-03, -5.01328015e-03,  3.42992869e-04]),\n",
       " array([ 0.00012093,  0.01030308, -0.00501009, -0.00023463]))"
      ]
     },
     "execution_count": 26,
     "metadata": {},
     "output_type": "execute_result"
    }
   ],
   "source": [
    "w_0, w_mean"
   ]
  },
  {
   "cell_type": "code",
   "execution_count": 27,
   "id": "b7b43dad-0784-4bed-bf5c-b325f26442a8",
   "metadata": {},
   "outputs": [
    {
     "data": {
      "text/plain": [
       "<Axes: ylabel='Count'>"
      ]
     },
     "execution_count": 27,
     "metadata": {},
     "output_type": "execute_result"
    },
    {
     "data": {
      "image/png": "[encoded data removed]",
      "text/plain": [
       "<Figure size 640x480 with 1 Axes>"
      ]
     },
     "metadata": {},
     "output_type": "display_data"
    }
   ],
   "source": [
    "sns.histplot(y_pred_0, color='red', alpha=0.4)\n",
    "sns.histplot(y_pred_mean, color='blue', alpha=0.4)\n",
    "sns.histplot(y_train, color='green', alpha=0.4)"
   ]
  },
  {
   "cell_type": "code",
   "execution_count": 28,
   "id": "77fd0cbc-4f59-4a2a-b1cd-b42f69f75351",
   "metadata": {},
   "outputs": [],
   "source": [
    "def rmse(y, y_pred):\n",
    "    se = (y - y_pred) ** 2\n",
    "    mse = se.mean()\n",
    "    return np.sqrt(mse)"
   ]
  },
  {
   "cell_type": "code",
   "execution_count": 29,
   "id": "0fde5668-1731-4bad-a164-f856bd0af67d",
   "metadata": {},
   "outputs": [],
   "source": [
    "def rmse(y, y_pred):\n",
    "    se = (y - y_pred) ** 2\n",
    "    mse = se.mean()\n",
    "    return np.sqrt(mse)"
   ]
  },
  {
   "cell_type": "code",
   "execution_count": 30,
   "id": "0093fb07-6f5c-44bb-98e5-06e40cde6886",
   "metadata": {},
   "outputs": [],
   "source": [
    "def prepare_X(df, val):\n",
    "    df_num = df[base]\n",
    "    df_num = df_num.fillna(val)\n",
    "    X = df_num.values\n",
    "    return X"
   ]
  },
  {
   "cell_type": "code",
   "execution_count": 31,
   "id": "6bfb22fc-48a3-461b-b734-211615887855",
   "metadata": {},
   "outputs": [
    {
     "data": {
      "text/plain": [
       "(np.float64(0.52), np.float64(0.46))"
      ]
     },
     "execution_count": 31,
     "metadata": {},
     "output_type": "execute_result"
    }
   ],
   "source": [
    "X_val_0 = prepare_X(df_val, 0)\n",
    "X_val_mean = prepare_X(df_val, df_val['horsepower'].mean())\n",
    "\n",
    "y_pred_0 = w0_0 + X_val_0.dot(w_0)\n",
    "y_pred_mean = w0_mean + X_val_mean.dot(w_mean)\n",
    "\n",
    "rmse_0 = rmse(y_val, y_pred_0)\n",
    "rmse_mean = rmse(y_val, y_pred_mean)\n",
    "round(rmse_0, 2), round(rmse_mean, 2)"
   ]
  },
  {
   "cell_type": "code",
   "execution_count": 32,
   "id": "c73d756a-b46a-49f3-b8ca-a20704e9cf67",
   "metadata": {},
   "outputs": [],
   "source": [
    "def train_linear_regression_reg(X, y, r=0.001):\n",
    "    ones = np.ones(X.shape[0])\n",
    "    X = np.column_stack([ones, X])\n",
    "\n",
    "    XTX = X.T.dot(X)\n",
    "    XTX = XTX + r * np.eye(XTX.shape[0])\n",
    "\n",
    "    XTX_inv = np.linalg.inv(XTX)\n",
    "    w_full = XTX_inv.dot(X.T).dot(y)\n",
    "    \n",
    "    return w_full[0], w_full[1:]"
   ]
  },
  {
   "cell_type": "code",
   "execution_count": 44,
   "id": "5e14fa68-eb88-43d5-b476-b65b62c24c45",
   "metadata": {},
   "outputs": [
    {
     "name": "stdout",
     "output_type": "stream",
     "text": [
      "0 22.320182147425804 2.5663631784395244\n",
      "0.01 19.30011837279501 2.566938366173433\n",
      "0.1 8.702538132770865 2.569272047183869\n",
      "1 1.3407235213026507 2.5711815318013787\n",
      "5 0.281683474164984 2.5714756487623656\n",
      "10 0.14173789053626673 2.5715148943751505\n",
      "100 0.014258519461335668 2.5715510036647116\n"
     ]
    }
   ],
   "source": [
    "for r in [0, 0.01, 0.1, 1, 5, 10, 100]:\n",
    "    w0, w = train_linear_regression_reg(X_train_0, y_train, r=r)\n",
    "\n",
    "    X_val = prepare_X(df_val, 0)\n",
    "    y_pred = w0 + X_val.dot(w)\n",
    "    score = rmse(y_val, y_pred)\n",
    "    \n",
    "    print(r, w0, score)"
   ]
  },
  {
   "cell_type": "code",
   "execution_count": 34,
   "id": "2f4d6243-5e87-4374-adaa-9c641613458d",
   "metadata": {},
   "outputs": [],
   "source": [
    "seed = [0, 1, 2, 3, 4, 5, 6, 7, 8, 9]\n",
    "y_preds = {}\n",
    "y_vals = {}\n",
    "for _ in seed:\n",
    "    np.random.seed(_)\n",
    "    np.random.shuffle(idx)\n",
    "    df_train = df.iloc[idx[: n_train]]\n",
    "    df_val = df.iloc[idx[n_train : n_train + n_val]]\n",
    "    df_test = df.iloc[idx[n_train + n_val :]]\n",
    "    y_train = df_train.fuel_efficiency_mpg.values\n",
    "    y_test = df_test.fuel_efficiency_mpg.values\n",
    "    y_val = df_val.fuel_efficiency_mpg.values\n",
    "\n",
    "    del df_train['fuel_efficiency_mpg']\n",
    "    del df_val['fuel_efficiency_mpg']\n",
    "    del df_test['fuel_efficiency_mpg']\n",
    "    X_train = prepare_X(df_train, 0)\n",
    "    w0, w = train_linear_regression(X_train, y_train)\n",
    "\n",
    "    X_val = prepare_X(df_val, 0)\n",
    "    y_pred = w0 + X_val.dot(w)\n",
    "    y_preds['y_pred_%d' % _] = y_pred\n",
    "    y_vals['y_val_%d' % _] = y_val"
   ]
  },
  {
   "cell_type": "code",
   "execution_count": 43,
   "id": "7260b9ad-bc87-412c-a6eb-b27cd05ad9cf",
   "metadata": {},
   "outputs": [
    {
     "data": {
      "text/plain": [
       "({'y_pred_0': array([19.28904531, 15.90110339, 12.25729793, ..., 13.91928775,\n",
       "         16.12591323, 14.24851426], shape=(1940,)),\n",
       "  'y_pred_1': array([18.49553381, 17.51552182, 13.72238127, ..., 16.87456413,\n",
       "         16.5171127 , 14.39316535], shape=(1940,)),\n",
       "  'y_pred_2': array([14.77961099, 14.05695572, 13.80712701, ...,  7.8493782 ,\n",
       "         15.53051387, 12.90415423], shape=(1940,)),\n",
       "  'y_pred_3': array([16.48869269, 16.68242414, 17.32160796, ..., 15.66823456,\n",
       "         17.67183561, 18.93643457], shape=(1940,)),\n",
       "  'y_pred_4': array([16.30505603, 19.3201044 , 16.4885866 , ..., 13.19519641,\n",
       "         19.25017427, 13.98536065], shape=(1940,)),\n",
       "  'y_pred_5': array([12.65065166, 14.15814439, 14.84774997, ..., 16.97224467,\n",
       "         17.15206542, 20.01911262], shape=(1940,)),\n",
       "  'y_pred_6': array([13.13764338, 17.91768604, 15.28102728, ..., 13.62130091,\n",
       "         14.94271299, 16.37886558], shape=(1940,)),\n",
       "  'y_pred_7': array([14.89248564, 17.11401015, 15.18514092, ..., 15.17576091,\n",
       "         12.47440176, 16.50229329], shape=(1940,)),\n",
       "  'y_pred_8': array([13.39299453,  9.24872834, 12.14975954, ..., 15.46015197,\n",
       "         14.17840047, 16.66300315], shape=(1940,)),\n",
       "  'y_pred_9': array([18.62665933, 15.11672877, 17.10754891, ..., 15.70509213,\n",
       "         15.7499033 , 14.07346662], shape=(1940,))},\n",
       " {'y_val_0': array([19.65118455, 15.87995697, 12.0312558 , ..., 13.70370174,\n",
       "         16.03318568, 14.61280141], shape=(1940,)),\n",
       "  'y_val_1': array([18.72306679, 16.73030975, 13.73756359, ..., 16.03327005,\n",
       "         17.00423251, 14.47217187], shape=(1940,)),\n",
       "  'y_val_2': array([15.25459981, 14.17815758, 13.65465894, ...,  7.51699125,\n",
       "         15.41731122, 13.49826159], shape=(1940,)),\n",
       "  'y_val_3': array([16.59277776, 16.0561908 , 17.01417054, ..., 16.25828733,\n",
       "         17.5342959 , 18.55664788], shape=(1940,)),\n",
       "  'y_val_4': array([15.64328313, 18.87313622, 17.06913003, ..., 13.4360346 ,\n",
       "         19.52558436, 13.6952858 ], shape=(1940,)),\n",
       "  'y_val_5': array([13.32742438, 14.37855533, 15.76101454, ..., 18.3244248 ,\n",
       "         17.49711089, 19.82517193], shape=(1940,)),\n",
       "  'y_val_6': array([13.80120789, 17.54238364, 16.30148811, ..., 14.01920731,\n",
       "         15.54000211, 16.25990614], shape=(1940,)),\n",
       "  'y_val_7': array([14.96754748, 17.64838119, 14.48018436, ..., 14.02380524,\n",
       "         12.97195202, 15.68206866], shape=(1940,)),\n",
       "  'y_val_8': array([13.09541516,  9.25151755, 11.60486229, ..., 15.36876876,\n",
       "         14.22656504, 17.09697652], shape=(1940,)),\n",
       "  'y_val_9': array([17.88332968, 15.51812804, 17.25354752, ..., 14.76797435,\n",
       "         16.1446687 , 13.88109371], shape=(1940,))})"
      ]
     },
     "execution_count": 43,
     "metadata": {},
     "output_type": "execute_result"
    }
   ],
   "source": [
    "def calculate_rmse(a, b):\n",
    "    c = a - b\n",
    "    c_square = c ** 2\n",
    "    c_mean = c_square.mean()\n",
    "    rmse = np.sqrt(c_mean)\n",
    "    return rmse\n",
    "\n",
    "\n",
    "calculate_rmse(y_preds['y_pred_0'], y_vals['y_val_0'])\n",
    "\n",
    "y_preds, y_vals"
   ]
  },
  {
   "cell_type": "code",
   "execution_count": 36,
   "id": "e5e60965-a2f9-404e-be47-d759358bd745",
   "metadata": {},
   "outputs": [
    {
     "data": {
      "text/plain": [
       "[np.float64(0.5155264762371528),\n",
       " np.float64(0.5158252979059069),\n",
       " np.float64(0.5128324892991545),\n",
       " np.float64(0.5084930311177169),\n",
       " np.float64(0.5094209022036666),\n",
       " np.float64(0.5301284975738542),\n",
       " np.float64(0.5142267107582312),\n",
       " np.float64(0.5124852802249587),\n",
       " np.float64(0.5082885728860057),\n",
       " np.float64(0.5053325213824887)]"
      ]
     },
     "execution_count": 36,
     "metadata": {},
     "output_type": "execute_result"
    }
   ],
   "source": [
    "ramses = []\n",
    "for i in range (10):\n",
    "    ramses.append(calculate_rmse(y_preds['y_pred_%d' % i], y_vals['y_val_%d' % i]))\n",
    "ramses"
   ]
  },
  {
   "cell_type": "code",
   "execution_count": 37,
   "id": "4af0a44a-ac05-4ea5-b270-fc5b0045199d",
   "metadata": {},
   "outputs": [
    {
     "data": {
      "text/plain": [
       "np.float64(0.007)"
      ]
     },
     "execution_count": 37,
     "metadata": {},
     "output_type": "execute_result"
    }
   ],
   "source": [
    "round(np.std(ramses), 3)"
   ]
  },
  {
   "cell_type": "code",
   "execution_count": 38,
   "id": "f3757bda-78c4-4388-8244-1f1dd4050a9d",
   "metadata": {},
   "outputs": [
    {
     "data": {
      "text/plain": [
       "array([[ 280.        ,  174.        , 2797.99179256, 2016.        ],\n",
       "       [ 250.        ,  118.        , 3715.68947508, 2016.        ],\n",
       "       [ 170.        ,  105.        , 2336.20460314, 2008.        ],\n",
       "       ...,\n",
       "       [ 220.        ,  101.        , 2830.4058604 , 2006.        ],\n",
       "       [ 120.        ,  146.        , 2851.8003925 , 2007.        ],\n",
       "       [ 200.        ,  177.        , 3211.06982491, 2014.        ]],\n",
       "      shape=(7764, 4))"
      ]
     },
     "execution_count": 38,
     "metadata": {},
     "output_type": "execute_result"
    }
   ],
   "source": [
    "np.random.seed(9)\n",
    "np.random.shuffle(idx)\n",
    "df_full_train = pd.concat([df_train, df_val])\n",
    "df_full_train = df_full_train.reset_index(drop=True)\n",
    "X_full_train = prepare_X(df_full_train, 0)\n",
    "X_full_train"
   ]
  },
  {
   "cell_type": "code",
   "execution_count": 39,
   "id": "5ba8fcee-50e3-477d-a376-118a7923ab0d",
   "metadata": {},
   "outputs": [],
   "source": [
    "y_full_train = np.concatenate([y_train, y_val])"
   ]
  },
  {
   "cell_type": "code",
   "execution_count": 40,
   "id": "399da311-3ffa-42b2-9a83-58e6bcac70e0",
   "metadata": {},
   "outputs": [],
   "source": [
    "w0, w = train_linear_regression_reg(X_full_train, y_full_train, r=0.001)"
   ]
  },
  {
   "cell_type": "code",
   "execution_count": 41,
   "id": "1506c8b3-b001-428d-ba36-114b64694906",
   "metadata": {},
   "outputs": [],
   "source": [
    "X_test = prepare_X(df_test, 0)\n",
    "y_pred = w0 + X_test.dot(w)"
   ]
  },
  {
   "cell_type": "code",
   "execution_count": 42,
   "id": "c0bedb11-91eb-4827-92ff-d07fa091a2af",
   "metadata": {},
   "outputs": [
    {
     "data": {
      "text/plain": [
       "np.float64(0.5236231606260219)"
      ]
     },
     "execution_count": 42,
     "metadata": {},
     "output_type": "execute_result"
    }
   ],
   "source": [
    "score = calculate_rmse(y_test, y_pred)\n",
    "score"
   ]
  }
 ],
 "metadata": {
  "kernelspec": {
   "display_name": "Python 3 (ipykernel)",
   "language": "python",
   "name": "python3"
  },
  "language_info": {
   "codemirror_mode": {
    "name": "ipython",
    "version": 3
   },
   "file_extension": ".py",
   "mimetype": "text/x-python",
   "name": "python",
   "nbconvert_exporter": "python",
   "pygments_lexer": "ipython3",
   "version": "3.12.1"
  }
 },
 "nbformat": 4,
 "nbformat_minor": 5
}
